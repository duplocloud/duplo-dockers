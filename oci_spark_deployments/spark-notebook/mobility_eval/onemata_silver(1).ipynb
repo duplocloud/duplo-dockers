{
 "cells": [
  {
   "cell_type": "code",
   "execution_count": 1,
   "id": "022b1000",
   "metadata": {},
   "outputs": [
    {
     "name": "stdout",
     "output_type": "stream",
     "text": [
      "Defaulting to user installation because normal site-packages is not writeable\n",
      "Requirement already satisfied: pandas in /home/centos/.local/lib/python3.6/site-packages (1.1.5)\n",
      "Requirement already satisfied: h3 in /home/centos/.local/lib/python3.6/site-packages (3.7.3)\n",
      "Requirement already satisfied: sqlalchemy in /home/centos/.local/lib/python3.6/site-packages (1.4.35)\n",
      "Requirement already satisfied: boto3 in /home/centos/.local/lib/python3.6/site-packages (1.21.35)\n",
      "Requirement already satisfied: oci in /home/centos/.local/lib/python3.6/site-packages (2.62.1)\n",
      "Requirement already satisfied: delta-spark in /home/centos/.local/lib/python3.6/site-packages (1.1.0)\n",
      "Requirement already satisfied: numpy>=1.15.4 in /home/centos/.local/lib/python3.6/site-packages (from pandas) (1.19.5)\n",
      "Requirement already satisfied: python-dateutil>=2.7.3 in /home/centos/.local/lib/python3.6/site-packages (from pandas) (2.8.2)\n",
      "Requirement already satisfied: pytz>=2017.2 in /home/centos/.local/lib/python3.6/site-packages (from pandas) (2022.1)\n",
      "Requirement already satisfied: greenlet!=0.4.17 in /home/centos/.local/lib/python3.6/site-packages (from sqlalchemy) (1.1.2)\n",
      "Requirement already satisfied: importlib-metadata in /home/centos/.local/lib/python3.6/site-packages (from sqlalchemy) (4.8.3)\n",
      "Requirement already satisfied: jmespath<2.0.0,>=0.7.1 in /home/centos/.local/lib/python3.6/site-packages (from boto3) (0.10.0)\n",
      "Requirement already satisfied: s3transfer<0.6.0,>=0.5.0 in /home/centos/.local/lib/python3.6/site-packages (from boto3) (0.5.2)\n",
      "Requirement already satisfied: botocore<1.25.0,>=1.24.35 in /home/centos/.local/lib/python3.6/site-packages (from boto3) (1.24.35)\n",
      "Requirement already satisfied: certifi in /home/centos/.local/lib/python3.6/site-packages (from oci) (2021.10.8)\n",
      "Requirement already satisfied: circuitbreaker<2.0.0,>=1.3.1 in /home/centos/.local/lib/python3.6/site-packages (from oci) (1.3.2)\n",
      "Requirement already satisfied: pyOpenSSL<=19.1.0,>=17.5.0 in /home/centos/.local/lib/python3.6/site-packages (from oci) (19.1.0)\n",
      "Requirement already satisfied: cryptography<=3.4.7,>=3.2.1 in /home/centos/.local/lib/python3.6/site-packages (from oci) (3.4.7)\n",
      "Requirement already satisfied: pyspark<3.3.0,>=3.2.0 in /opt/spark/python (from delta-spark) (3.2.1)\n",
      "Requirement already satisfied: urllib3<1.27,>=1.25.4 in /usr/lib/python3.6/site-packages (from botocore<1.25.0,>=1.24.35->boto3) (1.25.6)\n",
      "Requirement already satisfied: cffi>=1.12 in /home/centos/.local/lib/python3.6/site-packages (from cryptography<=3.4.7,>=3.2.1->oci) (1.15.0)\n",
      "Requirement already satisfied: zipp>=0.5 in /home/centos/.local/lib/python3.6/site-packages (from importlib-metadata->sqlalchemy) (3.6.0)\n",
      "Requirement already satisfied: typing-extensions>=3.6.4 in /home/centos/.local/lib/python3.6/site-packages (from importlib-metadata->sqlalchemy) (4.1.1)\n",
      "Requirement already satisfied: six>=1.5.2 in /usr/lib/python3.6/site-packages (from pyOpenSSL<=19.1.0,>=17.5.0->oci) (1.14.0)\n",
      "Requirement already satisfied: py4j==0.10.9.3 in /home/centos/.local/lib/python3.6/site-packages (from pyspark<3.3.0,>=3.2.0->delta-spark) (0.10.9.3)\n",
      "Requirement already satisfied: pycparser in /home/centos/.local/lib/python3.6/site-packages (from cffi>=1.12->cryptography<=3.4.7,>=3.2.1->oci) (2.21)\n"
     ]
    }
   ],
   "source": [
    "!pip3 install pandas h3 sqlalchemy boto3 oci delta-spark"
   ]
  },
  {
   "cell_type": "code",
   "execution_count": 2,
   "id": "53d8a900",
   "metadata": {},
   "outputs": [
    {
     "name": "stdout",
     "output_type": "stream",
     "text": [
      "starting...\n",
      "starting...\n"
     ]
    },
    {
     "name": "stderr",
     "output_type": "stream",
     "text": [
      "/opt/spark/python/pyspark/context.py:238: FutureWarning: Python 3.6 support is deprecated in Spark 3.2.\n",
      "  FutureWarning\n"
     ]
    },
    {
     "data": {
      "text/plain": [
       "[('spark.jars.packages', 'io.delta:delta-core_2.12:1.1.0'),\n",
       " ('spark.driver.cores', '4'),\n",
       " ('spark.jars',\n",
       "  'file:///home/centos/.ivy2/jars/io.delta_delta-core_2.12-1.1.0.jar,file:///home/centos/.ivy2/jars/org.antlr_antlr4-runtime-4.8.jar,file:///home/centos/.ivy2/jars/org.codehaus.jackson_jackson-core-asl-1.9.13.jar'),\n",
       " ('spark.driver.host',\n",
       "  'oke-cf2oghpidfa-nysnacxikyq-shjnqmwa77q-0.subc6544f31f.useastcluster.oraclevcn.com'),\n",
       " ('spark.driver.memory', '4g'),\n",
       " ('spark.repl.local.jars',\n",
       "  'file:///home/centos/.ivy2/jars/io.delta_delta-core_2.12-1.1.0.jar,file:///home/centos/.ivy2/jars/org.antlr_antlr4-runtime-4.8.jar,file:///home/centos/.ivy2/jars/org.codehaus.jackson_jackson-core-asl-1.9.13.jar'),\n",
       " ('spark.scheduler.mode', 'FAIR'),\n",
       " ('spark.cores.max', '16'),\n",
       " ('spark.executor.id', 'driver'),\n",
       " ('spark.app.startTime', '1649702899747'),\n",
       " ('spark.master', 'spark://10.0.10.163:7077'),\n",
       " ('spark.sql.warehouse.dir', 'file:/home/centos/work/spark-warehouse'),\n",
       " ('spark.driver.port', '40395'),\n",
       " ('spark.app.name', 'pyspark-shell'),\n",
       " ('spark.executor.memory', '12g'),\n",
       " ('spark.executor.cores', '4'),\n",
       " ('spark.app.initial.file.urls',\n",
       "  'spark://oke-cf2oghpidfa-nysnacxikyq-shjnqmwa77q-0.subc6544f31f.useastcluster.oraclevcn.com:40395/files/org.codehaus.jackson_jackson-core-asl-1.9.13.jar,spark://oke-cf2oghpidfa-nysnacxikyq-shjnqmwa77q-0.subc6544f31f.useastcluster.oraclevcn.com:40395/files/org.antlr_antlr4-runtime-4.8.jar,spark://oke-cf2oghpidfa-nysnacxikyq-shjnqmwa77q-0.subc6544f31f.useastcluster.oraclevcn.com:40395/files/io.delta_delta-core_2.12-1.1.0.jar'),\n",
       " ('spark.files',\n",
       "  'file:///home/centos/.ivy2/jars/io.delta_delta-core_2.12-1.1.0.jar,file:///home/centos/.ivy2/jars/org.antlr_antlr4-runtime-4.8.jar,file:///home/centos/.ivy2/jars/org.codehaus.jackson_jackson-core-asl-1.9.13.jar'),\n",
       " ('spark.submit.pyFiles',\n",
       "  '/home/centos/.ivy2/jars/io.delta_delta-core_2.12-1.1.0.jar,/home/centos/.ivy2/jars/org.antlr_antlr4-runtime-4.8.jar,/home/centos/.ivy2/jars/org.codehaus.jackson_jackson-core-asl-1.9.13.jar'),\n",
       " ('spark.sql.extensions', 'io.delta.sql.DeltaSparkSessionExtension'),\n",
       " ('spark.rdd.compress', 'True'),\n",
       " ('spark.app.id', 'app-20220411184820-0001'),\n",
       " ('spark.serializer.objectStreamReset', '100'),\n",
       " ('spark.submit.deployMode', 'client'),\n",
       " ('spark.ui.showConsoleProgress', 'true'),\n",
       " ('spark.sql.catalog.spark_catalog',\n",
       "  'org.apache.spark.sql.delta.catalog.DeltaCatalog'),\n",
       " ('spark.app.initial.jar.urls',\n",
       "  'spark://oke-cf2oghpidfa-nysnacxikyq-shjnqmwa77q-0.subc6544f31f.useastcluster.oraclevcn.com:40395/jars/org.antlr_antlr4-runtime-4.8.jar,spark://oke-cf2oghpidfa-nysnacxikyq-shjnqmwa77q-0.subc6544f31f.useastcluster.oraclevcn.com:40395/jars/org.codehaus.jackson_jackson-core-asl-1.9.13.jar,spark://oke-cf2oghpidfa-nysnacxikyq-shjnqmwa77q-0.subc6544f31f.useastcluster.oraclevcn.com:40395/jars/io.delta_delta-core_2.12-1.1.0.jar')]"
      ]
     },
     "execution_count": 2,
     "metadata": {},
     "output_type": "execute_result"
    }
   ],
   "source": [
    "print(\"starting...\")\n",
    "\n",
    "\n",
    "\n",
    "# -*- coding: utf-8 -*-\n",
    "\"\"\"part_1_mobility_script_generic(new_dataset)_new (2).ipynb\n",
    "\n",
    "Automatically generated by Colaboratory.\n",
    "\n",
    "Original file is located at\n",
    "    https://colab.research.google.com/drive/1dGNHBaJAS1w2hsZw4c_Kx4bFdQ0Kzdg_\n",
    "\"\"\"\n",
    "\n",
    "print(\"starting...\")\n",
    "\n",
    "from pyspark.sql.window import Window \n",
    "import pyspark\n",
    "from pyspark import SparkContext\n",
    "\n",
    "from pyspark.sql import functions as F\n",
    "import pyspark.sql.functions as func\n",
    "\n",
    "\n",
    "from pyspark.sql.functions import udf\n",
    "from pyspark.sql.types import *\n",
    "from pyspark.sql.functions import col, window\n",
    "import pyspark.sql.functions as func\n",
    "from pyspark.sql.functions import desc\n",
    "import datetime, time\n",
    "from pyspark.sql.types import IntegerType\n",
    "from pyspark.sql.functions import *\n",
    "from pyspark.sql.window import Window\n",
    "from pyspark.sql.window import Window\n",
    "import pyspark.sql.functions as sf\n",
    "\n",
    "import datetime as dt\n",
    "import numpy as np\n",
    "import os\n",
    "\n",
    "from multiprocessing.pool import Pool\n",
    "import pickle\n",
    "import pandas as pd\n",
    "\n",
    "from h3 import h3\n",
    "\n",
    "\n",
    "from math import radians, cos, sin, asin, sqrt\n",
    "from pyspark.sql.functions import lit\n",
    "import json\n",
    "\n",
    "from datetime import datetime, date, timedelta\n",
    " \n",
    "import oci\n",
    "from pyspark.sql import SparkSession\n",
    "import sys\n",
    "import boto3\n",
    "from io import BytesIO\n",
    "\n",
    "from functools import reduce\n",
    "from pyspark.sql import DataFrame\n",
    "\n",
    "from pyspark.sql.functions import round, col\n",
    "from dateutil import tz\n",
    "import sqlalchemy as db\n",
    "\n",
    "import pyspark\n",
    "\n",
    "from pyspark.sql import SparkSession\n",
    "ociconf = oci.config.from_file()\n",
    "\n",
    "spark = SparkSession.builder \\\n",
    "        .config(\"spark.driver.memory\", \"4g\") \\\n",
    "        .config(\"spark.driver.cores\", \"4\") \\\n",
    "        .config(\"spark.executor.memory\", \"12g\") \\\n",
    "        .config(\"spark.executor.cores\", \"4\") \\\n",
    "        .config(\"spark.scheduler.mode\", \"FAIR\") \\\n",
    "        .config(\"spark.cores.max\", \"16\") \\\n",
    "        .config(\"spark.jars.packages\", \"io.delta:delta-core_2.12:1.1.0\") \\\n",
    "        .config(\"spark.sql.extensions\", \"io.delta.sql.DeltaSparkSessionExtension\") \\\n",
    "        .config(\"spark.sql.catalog.spark_catalog\", \"org.apache.spark.sql.delta.catalog.DeltaCatalog\") \\\n",
    "        .getOrCreate()\n",
    "\n",
    "\n",
    "# spark.conf.set('fs.oci.client.auth.tenantId', ociconf['tenancy'])\n",
    "# spark.conf.set('fs.oci.client.auth.userId',  ociconf['user'])\n",
    "# spark.conf.set('fs.oci.client.auth.fingerprint', ociconf['fingerprint'])\n",
    "# spark.conf.set('fs.oci.client.auth.pemfilepath', \"~/.oci/oci_api_key\")\n",
    "# spark.conf.set('fs.oci.client.auth.tenantId.region', \"us-ashburn-1\")\n",
    "# spark.conf.set('fs.oci.client.hostname', \"https://objectstorage.us-ashburn-1.oraclecloud.com\")\n",
    "\n",
    "spark.conf.set('fs.oci.client.auth.tenantId', \"ocid1.tenancy.oc1..aaaaaaaamqxmfclvmrazpk4kt7ibkcfzfg2fvg4o2wyzemzu3n7tcpf6nvsa\")\n",
    "spark.conf.set('fs.oci.client.auth.userId', \"ocid1.user.oc1..aaaaaaaa4gjumyz4kiowhzbyjzgajyo5bln565rntgboqod3t6lu4bpwl2ra\")\n",
    "spark.conf.set('fs.oci.client.auth.fingerprint', \"ec:8f:0e:14:e0:31:cd:e4:d6:03:04:aa:aa:94:f9:a9\")\n",
    "spark.conf.set('fs.oci.client.auth.pemfilepath', \"~/.oci/oci_api_key\")\n",
    "spark.conf.set('fs.oci.client.auth.tenantId.region', \"us-ashburn-1\")\n",
    "spark.conf.set('fs.oci.client.hostname', \"https://objectstorage.us-ashburn-1.oraclecloud.com\")\n",
    "\n",
    "# spark.driver.cores\n",
    "# spark.driver.memory\n",
    "# spark.driver.memoryOverhead\n",
    "# spark.executor.memory = 1g\n",
    "# spark.executor.memoryOverhead\n",
    "# spark.driver.resource.{resourceName}.amount\n",
    "# spark.executor.resource.{resourceName}.amount\n",
    "# spark.executor.cores\n",
    "spark.sparkContext._conf.getAll()  \n",
    "#         .config(\"spark.jars.packages\", \"io.delta:delta-core_2.12:0.8.0\") \\\n",
    "# .config(\"spark.sql.extensions\", \"io.delta.sql.DeltaSparkSessionExtension\") \\\n",
    "#     .config(\"spark.sql.catalog.spark_catalog\", \"org.apache.spark.sql.delta.catalog.DeltaCatalog\")"
   ]
  },
  {
   "cell_type": "code",
   "execution_count": 3,
   "id": "b9ea5103",
   "metadata": {},
   "outputs": [],
   "source": [
    "country = \"IN\"\n",
    "def getPath(country):\n",
    "    paths = {\n",
    "        \"US\": \"oci://ia-datapipeline@bmmp5bv7olp2/poi_data/USA_compressed_parquet_data/*.parquet\",\n",
    "#         \"AR\": \"s3://ia-customer-insights/poi_data/ARE_processed_compressed_parquet_data/\",\n",
    "        \"IN\": \"oci://ia-datapipeline@bmmp5bv7olp2/poi_data/all_IND_complete_compressed_parquet_data/*/*/*.parquet\"\n",
    "    }\n",
    "    \n",
    "    return paths[country]\n",
    "\n",
    "block_path = getPath(country)"
   ]
  },
  {
   "cell_type": "code",
   "execution_count": 4,
   "id": "13038bce",
   "metadata": {
    "scrolled": true
   },
   "outputs": [],
   "source": [
    "\n",
    "block_df = spark.read.format(\"parquet\").load(block_path, header = 'true')"
   ]
  },
  {
   "cell_type": "code",
   "execution_count": 5,
   "id": "ecd89226",
   "metadata": {},
   "outputs": [
    {
     "data": {
      "text/plain": [
       "['h3',\n",
       " 'poiType',\n",
       " 'poiCode',\n",
       " 'h3index',\n",
       " 'h12',\n",
       " 'resolution',\n",
       " 'index_res',\n",
       " 'h6',\n",
       " '9_res',\n",
       " 'state',\n",
       " 'p_city']"
      ]
     },
     "execution_count": 5,
     "metadata": {},
     "output_type": "execute_result"
    }
   ],
   "source": [
    "block_df.columns"
   ]
  },
  {
   "cell_type": "code",
   "execution_count": 6,
   "id": "a97b4c75",
   "metadata": {
    "scrolled": true
   },
   "outputs": [],
   "source": [
    "read_path = \"oci://ia-datapipeline@bmmp5bv7olp2/mobility_vendor_eval/onemata/IN/bronze_layers_all/date=2022-02-27\"\n",
    "df = spark.read.format('delta').load(read_path, header = 'true')"
   ]
  },
  {
   "cell_type": "code",
   "execution_count": 7,
   "id": "746adbb6",
   "metadata": {},
   "outputs": [
    {
     "data": {
      "text/plain": [
       "['h3index9',\n",
       " 'AAID',\n",
       " 'latitude',\n",
       " 'longitude',\n",
       " 'timestamp',\n",
       " 'device_type',\n",
       " 'country',\n",
       " 'date',\n",
       " 'hour',\n",
       " 'day',\n",
       " 'month',\n",
       " 'h3index12',\n",
       " 'h3index6',\n",
       " 'state',\n",
       " 'city',\n",
       " 'time_precision_till_minutes']"
      ]
     },
     "execution_count": 7,
     "metadata": {},
     "output_type": "execute_result"
    }
   ],
   "source": [
    "df.columns"
   ]
  },
  {
   "cell_type": "code",
   "execution_count": null,
   "id": "bd94a491",
   "metadata": {},
   "outputs": [],
   "source": [
    "df.count()"
   ]
  },
  {
   "cell_type": "code",
   "execution_count": null,
   "id": "64606dd6",
   "metadata": {},
   "outputs": [],
   "source": [
    "df = df.withColumnRenamed(\"AAID\", \"ifa\")\n",
    "df = df.withColumnRenamed(\"h3index6\", \"h6\")\n",
    "df = df.withColumnRenamed(\"h3index12\", \"h12\")\n",
    "df = df.withColumnRenamed(\"h3index9\", \"h3\")\n",
    "df = df.withColumnRenamed(\"longitude\", \"long\")\n",
    "df = df.withColumnRenamed(\"latitude\", \"lat\")\n",
    "df = df.withColumnRenamed(\"latitude\", \"lat\")\n",
    "\n",
    "df.columns"
   ]
  },
  {
   "cell_type": "code",
   "execution_count": null,
   "id": "0d5f3d50",
   "metadata": {},
   "outputs": [],
   "source": [
    "df = df.withColumn('date', F.to_date(F.col('timestamp')).cast(DateType()))"
   ]
  },
  {
   "cell_type": "code",
   "execution_count": null,
   "id": "acd69d41",
   "metadata": {},
   "outputs": [],
   "source": [
    "data_union = df.join(block_df.select([\"h12\",\"poiCode\", \"poiType\"]), on=[\"h12\"], how='inner').select([\"h12\", \"h6\", \"h3\", \"ifa\", \"lat\", \"long\", \"date\", \"timestamp\", \"city\",\"poiCode\", \"poiType\"])\n",
    "# data_union.show()"
   ]
  },
  {
   "cell_type": "code",
   "execution_count": null,
   "id": "dc323f16",
   "metadata": {},
   "outputs": [],
   "source": [
    "data_union.write.partitionBy(['date', 'h6']).mode(\"overwrite\").format('delta').save(vendor_mapping[vendor][\"write_path\"])"
   ]
  }
 ],
 "metadata": {
  "kernelspec": {
   "display_name": "Python 3",
   "language": "python",
   "name": "python3"
  },
  "language_info": {
   "codemirror_mode": {
    "name": "ipython",
    "version": 3
   },
   "file_extension": ".py",
   "mimetype": "text/x-python",
   "name": "python",
   "nbconvert_exporter": "python",
   "pygments_lexer": "ipython3",
   "version": "3.6.8"
  }
 },
 "nbformat": 4,
 "nbformat_minor": 5
}
