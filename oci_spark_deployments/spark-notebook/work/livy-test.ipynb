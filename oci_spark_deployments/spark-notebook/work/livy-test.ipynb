{
 "cells": [
  {
   "cell_type": "code",
   "execution_count": 2,
   "id": "03250a96",
   "metadata": {},
   "outputs": [
    {
     "name": "stdout",
     "output_type": "stream",
     "text": [
      "livy_ip  10.0.10.197\n"
     ]
    }
   ],
   "source": [
    "import json, pprint, requests, textwrap\n",
    "import os\n",
    "import time\n",
    "\n",
    "livy_ip = None \n",
    "\n",
    "if livy_ip is None:\n",
    "  livy_ip = os.environ.get(\"DUPLO_SPARK_LIVY_IP\")\n",
    "if livy_ip is None:\n",
    "  livy_ip=\"10.0.10.197\"\n",
    "\n",
    "print(\"livy_ip \", livy_ip)\n",
    "host = \"http://{0}:8998\".format(livy_ip)"
   ]
  },
  {
   "cell_type": "code",
   "execution_count": 3,
   "id": "f8a35a80",
   "metadata": {},
   "outputs": [
    {
     "name": "stdout",
     "output_type": "stream",
     "text": [
      "1 ==================== http://10.0.10.197:8998\n",
      "{'id': 0, 'name': None, 'appId': None, 'owner': None, 'proxyUser': None, 'state': 'starting', 'kind': 'pyspark', 'appInfo': {'driverLogUrl': None, 'sparkUiUrl': None}, 'log': ['stdout: ', '\\nstderr: ']}\n"
     ]
    }
   ],
   "source": [
    "\n",
    "print( \"1 ====================\", host )\n",
    "data = {'kind': 'pyspark'}\n",
    "headers = {'Content-Type': 'application/json', 'X-Requested-By' : 'user' }\n",
    "r = requests.post(host + '/sessions', data=json.dumps(data), headers=headers)\n",
    "resp = r.json()\n",
    "print(resp)\n",
    "\n",
    "time.sleep(60)"
   ]
  },
  {
   "cell_type": "code",
   "execution_count": 4,
   "id": "eff74156",
   "metadata": {},
   "outputs": [
    {
     "name": "stdout",
     "output_type": "stream",
     "text": [
      "2 ==================== http://10.0.10.197:8998/sessions/0\n",
      "{'appId': None,\n",
      " 'appInfo': {'driverLogUrl': None, 'sparkUiUrl': None},\n",
      " 'id': 0,\n",
      " 'kind': 'pyspark',\n",
      " 'log': ['22/03/18 22:01:33 INFO Executor: Adding '\n",
      "         'file:/tmp/spark-ccaf4aaa-879b-46ae-9131-275a6517565b/userFiles-da0d2635-ddaa-4ada-9e56-5709057c1ffd/livy-core_2.12-0.8.0-incubating-SNAPSHOT.jar '\n",
      "         'to class loader',\n",
      "         '22/03/18 22:01:33 INFO Utils: Successfully started service '\n",
      "         \"'org.apache.spark.network.netty.NettyBlockTransferService' on port \"\n",
      "         '37105.',\n",
      "         '22/03/18 22:01:33 INFO NettyBlockTransferService: Server created on '\n",
      "         'oke-cerevunbnqq-ns2yjc6edwq-sb5nu6afuxa-0.sub7cc90210c.cluster1.oraclevcn.com:37105',\n",
      "         '22/03/18 22:01:33 INFO BlockManager: Using '\n",
      "         'org.apache.spark.storage.RandomBlockReplicationPolicy for block '\n",
      "         'replication policy',\n",
      "         '22/03/18 22:01:33 INFO BlockManagerMaster: Registering BlockManager '\n",
      "         'BlockManagerId(driver, '\n",
      "         'oke-cerevunbnqq-ns2yjc6edwq-sb5nu6afuxa-0.sub7cc90210c.cluster1.oraclevcn.com, '\n",
      "         '37105, None)',\n",
      "         '22/03/18 22:01:33 INFO BlockManagerMasterEndpoint: Registering block '\n",
      "         'manager '\n",
      "         'oke-cerevunbnqq-ns2yjc6edwq-sb5nu6afuxa-0.sub7cc90210c.cluster1.oraclevcn.com:37105 '\n",
      "         'with 413.9 MiB RAM, BlockManagerId(driver, '\n",
      "         'oke-cerevunbnqq-ns2yjc6edwq-sb5nu6afuxa-0.sub7cc90210c.cluster1.oraclevcn.com, '\n",
      "         '37105, None)',\n",
      "         '22/03/18 22:01:33 INFO BlockManagerMaster: Registered BlockManager '\n",
      "         'BlockManagerId(driver, '\n",
      "         'oke-cerevunbnqq-ns2yjc6edwq-sb5nu6afuxa-0.sub7cc90210c.cluster1.oraclevcn.com, '\n",
      "         '37105, None)',\n",
      "         '22/03/18 22:01:33 INFO BlockManager: Initialized BlockManager: '\n",
      "         'BlockManagerId(driver, '\n",
      "         'oke-cerevunbnqq-ns2yjc6edwq-sb5nu6afuxa-0.sub7cc90210c.cluster1.oraclevcn.com, '\n",
      "         '37105, None)',\n",
      "         '22/03/18 22:01:33 INFO SparkEntries: Spark context finished '\n",
      "         'initialization in 2439ms',\n",
      "         '22/03/18 22:01:33 INFO SparkEntries: Created Spark session.'],\n",
      " 'name': None,\n",
      " 'owner': None,\n",
      " 'proxyUser': None,\n",
      " 'state': 'idle'}\n",
      "END 2 ==================== http://10.0.10.197:8998/sessions/0\n"
     ]
    }
   ],
   "source": [
    "location = r.headers['location']\n",
    "session_url = host + r.headers['location']\n",
    "print( \"2 ====================\", session_url )\n",
    "r = requests.get(session_url, headers=headers)\n",
    "resp2 = r.json()\n",
    "pprint.pprint(r.json())\n",
    "print( \"END 2 ====================\", session_url )\n",
    "\n",
    "time.sleep(60)"
   ]
  },
  {
   "cell_type": "code",
   "execution_count": 5,
   "id": "0a6aa2c6",
   "metadata": {},
   "outputs": [
    {
     "name": "stdout",
     "output_type": "stream",
     "text": [
      "3 ==================== http://10.0.10.197:8998/sessions/0/statements\n",
      "{'code': '1 + 1',\n",
      " 'completed': 0,\n",
      " 'id': 0,\n",
      " 'output': None,\n",
      " 'progress': 0.0,\n",
      " 'started': 0,\n",
      " 'state': 'waiting'}\n",
      "END 3 ==================== http://10.0.10.197:8998/sessions/0/statements\n"
     ]
    }
   ],
   "source": [
    "\n",
    "\n",
    "statements_url = session_url + '/statements'\n",
    "print( \"3 ====================\", statements_url )\n",
    "data = {'code': '1 + 1'}\n",
    "r = requests.post(statements_url, data=json.dumps(data), headers=headers)\n",
    "resp3 = r.json()\n",
    "pprint.pprint(r.json())\n",
    "print( \"END 3 ====================\", statements_url )\n",
    "\n",
    "time.sleep(60)"
   ]
  },
  {
   "cell_type": "code",
   "execution_count": 6,
   "id": "7ba4e10d",
   "metadata": {},
   "outputs": [
    {
     "name": "stdout",
     "output_type": "stream",
     "text": [
      "3 ==================== http://10.0.10.197:8998/sessions/0/statements\n",
      "{'code': '1 + 1',\n",
      " 'completed': 1647641061549,\n",
      " 'id': 1,\n",
      " 'output': {'ename': 'Error',\n",
      "            'evalue': 'Interpreter died:\\n',\n",
      "            'execution_count': 1,\n",
      "            'status': 'error',\n",
      "            'traceback': []},\n",
      " 'progress': 1.0,\n",
      " 'started': 1647641061549,\n",
      " 'state': 'available'}\n",
      "END 3 ==================== http://10.0.10.197:8998/sessions/0/statements\n"
     ]
    }
   ],
   "source": [
    "\n",
    "statements_url = session_url + '/statements'\n",
    "print( \"3 ====================\", statements_url )\n",
    "data = {'code': '1 + 1'}\n",
    "r = requests.post(statements_url, data=json.dumps(data), headers=headers)\n",
    "resp3 = r.json()\n",
    "pprint.pprint(r.json())\n",
    "print( \"END 3 ====================\", statements_url )\n",
    "\n",
    "time.sleep(60)"
   ]
  },
  {
   "cell_type": "code",
   "execution_count": 7,
   "id": "ec2d8f8e",
   "metadata": {},
   "outputs": [
    {
     "name": "stdout",
     "output_type": "stream",
     "text": [
      "3 ==================== http://10.0.10.197:8998/sessions/0/statements\n",
      "{'code': '1 + 1',\n",
      " 'completed': 1647641121697,\n",
      " 'id': 2,\n",
      " 'output': {'ename': 'Error',\n",
      "            'evalue': 'Interpreter died:\\n',\n",
      "            'execution_count': 2,\n",
      "            'status': 'error',\n",
      "            'traceback': []},\n",
      " 'progress': 1.0,\n",
      " 'started': 1647641121696,\n",
      " 'state': 'available'}\n",
      "END 3 ==================== http://10.0.10.197:8998/sessions/0/statements\n"
     ]
    }
   ],
   "source": [
    "\n",
    "statements_url = session_url + '/statements'\n",
    "print( \"3 ====================\", statements_url )\n",
    "data = {'code': '1 + 1'}\n",
    "r = requests.post(statements_url, data=json.dumps(data), headers=headers)\n",
    "resp3 = r.json()\n",
    "pprint.pprint(r.json())\n",
    "print( \"END 3 ====================\", statements_url )\n",
    "\n",
    "time.sleep(60)\n",
    "\n",
    "\n"
   ]
  },
  {
   "cell_type": "code",
   "execution_count": 8,
   "id": "0642a425",
   "metadata": {},
   "outputs": [
    {
     "name": "stdout",
     "output_type": "stream",
     "text": [
      "4 ==================== http://10.0.10.197:8998/sessions/0\n",
      "{'appId': None,\n",
      " 'appInfo': {'driverLogUrl': None, 'sparkUiUrl': None},\n",
      " 'id': 0,\n",
      " 'kind': 'pyspark',\n",
      " 'log': ['  File \"/opt/spark/python/pyspark/__init__.py\", line 53, in <module>',\n",
      "         '    from pyspark.rdd import RDD, RDDBarrier',\n",
      "         '  File \"/opt/spark/python/pyspark/rdd.py\", line 34, in <module>',\n",
      "         '    from pyspark.java_gateway import local_connect_and_auth',\n",
      "         '  File \"/opt/spark/python/pyspark/java_gateway.py\", line 31, in '\n",
      "         '<module>',\n",
      "         '    from pyspark.find_spark_home import _find_spark_home',\n",
      "         '  File \"/opt/spark/python/pyspark/find_spark_home.py\", line 68',\n",
      "         '    print(\"Could not find valid SPARK_HOME while searching '\n",
      "         '{0}\".format(paths), file=sys.stderr)',\n",
      "         '                                                                                   '\n",
      "         '^',\n",
      "         'SyntaxError: invalid syntax'],\n",
      " 'name': None,\n",
      " 'owner': None,\n",
      " 'proxyUser': None,\n",
      " 'state': 'error'}\n",
      "END 4 ==================== http://10.0.10.197:8998/sessions/0\n"
     ]
    }
   ],
   "source": [
    "\n",
    "\n",
    "statement_url = host + location # r.headers['location']\n",
    "print( \"4 ====================\", statement_url )\n",
    "r = requests.get(statement_url, headers=headers)\n",
    "resp4 = r.json()\n",
    "pprint.pprint(r.json())\n",
    "print( \"END 4 ====================\", statement_url )\n",
    "\n",
    "time.sleep(60)\n"
   ]
  },
  {
   "cell_type": "code",
   "execution_count": 9,
   "id": "2d2f19c7",
   "metadata": {},
   "outputs": [
    {
     "ename": "KeyError",
     "evalue": "'location'",
     "output_type": "error",
     "traceback": [
      "\u001b[0;31m---------------------------------------------------------------------------\u001b[0m",
      "\u001b[0;31mKeyError\u001b[0m                                  Traceback (most recent call last)",
      "\u001b[0;32m<ipython-input-9-f776cd683240>\u001b[0m in \u001b[0;36m<module>\u001b[0;34m\u001b[0m\n\u001b[0;32m----> 1\u001b[0;31m \u001b[0mstatement_url\u001b[0m \u001b[0;34m=\u001b[0m \u001b[0mhost\u001b[0m \u001b[0;34m+\u001b[0m \u001b[0mr\u001b[0m\u001b[0;34m.\u001b[0m\u001b[0mheaders\u001b[0m\u001b[0;34m[\u001b[0m\u001b[0;34m'location'\u001b[0m\u001b[0;34m]\u001b[0m\u001b[0;34m\u001b[0m\u001b[0;34m\u001b[0m\u001b[0m\n\u001b[0m\u001b[1;32m      2\u001b[0m \u001b[0mprint\u001b[0m\u001b[0;34m(\u001b[0m \u001b[0;34m\"5 ==================== PI \"\u001b[0m\u001b[0;34m,\u001b[0m \u001b[0mstatement_url\u001b[0m \u001b[0;34m)\u001b[0m\u001b[0;34m\u001b[0m\u001b[0;34m\u001b[0m\u001b[0m\n\u001b[1;32m      3\u001b[0m data = {\n\u001b[1;32m      4\u001b[0m   'code': textwrap.dedent(\"\"\"\n\u001b[1;32m      5\u001b[0m     \u001b[0mval\u001b[0m \u001b[0mNUM_SAMPLES\u001b[0m \u001b[0;34m=\u001b[0m \u001b[0;36m100000\u001b[0m\u001b[0;34m;\u001b[0m\u001b[0;34m\u001b[0m\u001b[0;34m\u001b[0m\u001b[0m\n",
      "\u001b[0;32m/usr/lib/python3.6/site-packages/requests/structures.py\u001b[0m in \u001b[0;36m__getitem__\u001b[0;34m(self, key)\u001b[0m\n\u001b[1;32m     52\u001b[0m \u001b[0;34m\u001b[0m\u001b[0m\n\u001b[1;32m     53\u001b[0m     \u001b[0;32mdef\u001b[0m \u001b[0m__getitem__\u001b[0m\u001b[0;34m(\u001b[0m\u001b[0mself\u001b[0m\u001b[0;34m,\u001b[0m \u001b[0mkey\u001b[0m\u001b[0;34m)\u001b[0m\u001b[0;34m:\u001b[0m\u001b[0;34m\u001b[0m\u001b[0;34m\u001b[0m\u001b[0m\n\u001b[0;32m---> 54\u001b[0;31m         \u001b[0;32mreturn\u001b[0m \u001b[0mself\u001b[0m\u001b[0;34m.\u001b[0m\u001b[0m_store\u001b[0m\u001b[0;34m[\u001b[0m\u001b[0mkey\u001b[0m\u001b[0;34m.\u001b[0m\u001b[0mlower\u001b[0m\u001b[0;34m(\u001b[0m\u001b[0;34m)\u001b[0m\u001b[0;34m]\u001b[0m\u001b[0;34m[\u001b[0m\u001b[0;36m1\u001b[0m\u001b[0;34m]\u001b[0m\u001b[0;34m\u001b[0m\u001b[0;34m\u001b[0m\u001b[0m\n\u001b[0m\u001b[1;32m     55\u001b[0m \u001b[0;34m\u001b[0m\u001b[0m\n\u001b[1;32m     56\u001b[0m     \u001b[0;32mdef\u001b[0m \u001b[0m__delitem__\u001b[0m\u001b[0;34m(\u001b[0m\u001b[0mself\u001b[0m\u001b[0;34m,\u001b[0m \u001b[0mkey\u001b[0m\u001b[0;34m)\u001b[0m\u001b[0;34m:\u001b[0m\u001b[0;34m\u001b[0m\u001b[0;34m\u001b[0m\u001b[0m\n",
      "\u001b[0;31mKeyError\u001b[0m: 'location'"
     ]
    }
   ],
   "source": [
    "\n",
    "statement_url = host + r.headers['location']\n",
    "print( \"5 ==================== PI \", statement_url )\n",
    "data = {\n",
    "  'code': textwrap.dedent(\"\"\"\n",
    "    val NUM_SAMPLES = 100000;\n",
    "    val count = sc.parallelize(1 to NUM_SAMPLES).map { i =>\n",
    "      val x = Math.random();\n",
    "      val y = Math.random();\n",
    "      if (x*x + y*y < 1) 1 else 0\n",
    "    }.reduce(_ + _);\n",
    "    println(\\\"Pi is roughly \\\" + 4.0 * count / NUM_SAMPLES)\n",
    "    \"\"\")\n",
    "}\n",
    "r = requests.post(statements_url, data=json.dumps(data), headers=headers)\n",
    "resp5 = r.json()\n",
    "pprint.pprint(r.json())\n",
    "print( \"5 ==================== PI \", statement_url )\n",
    "time.sleep(60)\n"
   ]
  },
  {
   "cell_type": "code",
   "execution_count": null,
   "id": "97871196",
   "metadata": {},
   "outputs": [],
   "source": [
    "\n",
    "statement_url = host + r.headers['location']\n",
    "print( \"6==================== PI \", statement_url )\n",
    "r = requests.get(statement_url, headers=headers)\n",
    "resp6 = r.json()\n",
    "pprint.pprint(r.json())\n",
    "print( \"END 6 ==================== PI \", statement_url )\n",
    "\n",
    "\n",
    "\n"
   ]
  },
  {
   "cell_type": "code",
   "execution_count": null,
   "id": "682d508b",
   "metadata": {},
   "outputs": [],
   "source": []
  }
 ],
 "metadata": {
  "kernelspec": {
   "display_name": "Python 3",
   "language": "python",
   "name": "python3"
  },
  "language_info": {
   "codemirror_mode": {
    "name": "ipython",
    "version": 3
   },
   "file_extension": ".py",
   "mimetype": "text/x-python",
   "name": "python",
   "nbconvert_exporter": "python",
   "pygments_lexer": "ipython3",
   "version": "3.6.8"
  }
 },
 "nbformat": 4,
 "nbformat_minor": 5
}
